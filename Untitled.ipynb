{
 "cells": [
  {
   "cell_type": "code",
   "execution_count": null,
   "metadata": {
    "collapsed": true
   },
   "outputs": [],
   "source": []
  },
  {
   "cell_type": "markdown",
   "metadata": {},
   "source": [
    "# 利用list特性\n",
    "\n",
    "- 运行时间：42ms\n",
    "\n",
    "- 占用内存：5852k"
   ]
  },
  {
   "cell_type": "code",
   "execution_count": 1,
   "metadata": {
    "collapsed": true
   },
   "outputs": [],
   "source": [
    "# -*- coding:utf-8 -*-\n",
    "class Solution:\n",
    "    def Sum_Solution(self, n):\n",
    "        # write code here\n",
    "        return sum(range(n+1))"
   ]
  },
  {
   "cell_type": "markdown",
   "metadata": {},
   "source": [
    "# 基于递归运算\n",
    "\n",
    "- 运行时间：24ms\n",
    "\n",
    "- 占用内存：5860k\n",
    "\n",
    "简单来说就是利用逻辑与的短路特性实现递归终止。\n",
    ">其中： \n",
    "\n",
    ">     “or”运算符表示“或”，有一个为真则全部为真；前半部分判断出来是真的，后半部分就不再进行运算了。\n",
    ">     “and”运算符表示“与”，前一项为假则整个表达式为假，因此可以利用这个性质进行递归运算或者达到整洁代码的目的。"
   ]
  },
  {
   "cell_type": "code",
   "execution_count": 2,
   "metadata": {
    "collapsed": true
   },
   "outputs": [],
   "source": [
    "# -*- coding:utf-8 -*-\n",
    "class Solution:\n",
    "    def __init__(self):\n",
    "        self.sum = 0\n",
    "    def Sum_Solution(self, n):\n",
    "        # write code here\n",
    "        def qiusum(n):\n",
    "            self.sum += n\n",
    "            n -= 1\n",
    "            return n>0 and self.Sum_Solution(n)\n",
    "          \n",
    "        qiusum(n)\n",
    "        return self.sum"
   ]
  },
  {
   "cell_type": "code",
   "execution_count": 3,
   "metadata": {
    "collapsed": true
   },
   "outputs": [],
   "source": [
    "# -*- coding:utf-8 -*-\n",
    "class Solution:\n",
    "    def Sum_Solution(self, n):\n",
    "        # write code here\n",
    "        result = n\n",
    "        temp = n > 0 and self.Sum_Solution(n-1)\n",
    "        result += temp\n",
    "        return result"
   ]
  },
  {
   "cell_type": "markdown",
   "metadata": {},
   "source": [
    "# reduce\n",
    "\n",
    "reduce(...)\n",
    "\n",
    "reduce(function, sequence[, initial]) -> value\n",
    "\n",
    "Apply a function of two arguments cumulatively to the items of a sequence,\n",
    "\n",
    "from left to right, so as to reduce the sequence to a single value.\n",
    "\n",
    "For example, reduce(lambda x, y: x+y, [1, 2, 3, 4, 5]) calculates\n",
    "\n",
    "((((1+2)+3)+4)+5). If initial is present, it is placed before the items\n",
    "\n",
    "of the sequence in the calculation, and serves as a default when the\n",
    "\n",
    "sequence is empty.\n",
    "\n",
    "从左到右对一个序列的项累计地应用有两个参数的函数，以此合并序列到一个单一值。\n",
    "\n",
    "例如，reduce(lambda x, y: x+y, [1, 2, 3, 4, 5])  计算的就是((((1+2)+3)+4)+5)。\n",
    "\n",
    "如果提供了 initial 参数，计算时它将被放在序列的所有项前面，如果序列是空的，它也就是计算的默认结果值了"
   ]
  },
  {
   "cell_type": "code",
   "execution_count": 4,
   "metadata": {
    "collapsed": true
   },
   "outputs": [],
   "source": [
    "# -*- coding:utf-8 -*-\n",
    "class Solution:\n",
    "    def Sum_Solution(self, n):\n",
    "        # write code here\n",
    "        def f(x,y):\n",
    "            return x+y\n",
    "        return reduce(f,range(1,n+1))\n"
   ]
  },
  {
   "cell_type": "code",
   "execution_count": null,
   "metadata": {
    "collapsed": true
   },
   "outputs": [],
   "source": []
  }
 ],
 "metadata": {
  "kernelspec": {
   "display_name": "Python 3",
   "language": "python",
   "name": "python3"
  },
  "language_info": {
   "codemirror_mode": {
    "name": "ipython",
    "version": 3
   },
   "file_extension": ".py",
   "mimetype": "text/x-python",
   "name": "python",
   "nbconvert_exporter": "python",
   "pygments_lexer": "ipython3",
   "version": "3.6.0"
  }
 },
 "nbformat": 4,
 "nbformat_minor": 2
}
