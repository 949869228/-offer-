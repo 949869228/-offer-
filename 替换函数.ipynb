{
 "cells": [
  {
   "cell_type": "markdown",
   "metadata": {},
   "source": [
    "题目描述\n",
    "请实现一个函数，将一个字符串中的每个空格替换成“%20”。例如，当字符串为We Are Happy.则经过替换之后的字符串为We%20Are%20Happy。"
   ]
  },
  {
   "cell_type": "code",
   "execution_count": null,
   "metadata": {},
   "outputs": [],
   "source": []
  },
  {
   "cell_type": "markdown",
   "metadata": {},
   "source": [
    "**思路1**\n",
    "\n",
    "调用python自带的join函数"
   ]
  },
  {
   "cell_type": "code",
   "execution_count": 4,
   "metadata": {},
   "outputs": [],
   "source": [
    "class Solution:\n",
    "    # s 源字符串\n",
    "    def replaceSpace(self, s):\n",
    "        # write code here\n",
    "        a=[str(i) for i in s.split(' ')]\n",
    "        return '%20'.join(a)"
   ]
  },
  {
   "cell_type": "markdown",
   "metadata": {},
   "source": [
    "时间复杂度o（n）；双指针移动"
   ]
  },
  {
   "cell_type": "code",
   "execution_count": 39,
   "metadata": {},
   "outputs": [],
   "source": [
    "# -*- coding:utf-8 -*-\n",
    "class Solution:\n",
    "    # s 源字符串\n",
    "    def replaceSpace(self, s):\n",
    "        # write code here\n",
    "        num=0\n",
    "        for i in s:\n",
    "            if i==' ':\n",
    "                num=num+1\n",
    "        s_new=[' ']*(len(s)+num*2)\n",
    "        m=len(s)-1\n",
    "        n=len(s_new)-1\n",
    "        while m!=n:\n",
    "            if s[m]==' ':\n",
    "                n=n-3\n",
    "                s_new[n+1]='%'\n",
    "                s_new[n+2]='2'\n",
    "                s_new[n+3]='0'\n",
    "                m=m-1\n",
    "            else:\n",
    "                s_new[n]=s[m]\n",
    "                m=m-1\n",
    "                n=n-1\n",
    "        for i in range(m+1):\n",
    "            s_new[i]=s[i]\n",
    "        s1=''\n",
    "        for i in s_new:\n",
    "            s1=s1+i\n",
    "        return s1\n",
    "                \n",
    "            "
   ]
  },
  {
   "cell_type": "code",
   "execution_count": 38,
   "metadata": {},
   "outputs": [
    {
     "data": {
      "text/plain": [
       "'we%20are%20ready'"
      ]
     },
     "execution_count": 38,
     "metadata": {},
     "output_type": "execute_result"
    }
   ],
   "source": []
  },
  {
   "cell_type": "code",
   "execution_count": null,
   "metadata": {},
   "outputs": [],
   "source": []
  }
 ],
 "metadata": {
  "kernelspec": {
   "display_name": "Python 3",
   "language": "python",
   "name": "python3"
  },
  "language_info": {
   "codemirror_mode": {
    "name": "ipython",
    "version": 3
   },
   "file_extension": ".py",
   "mimetype": "text/x-python",
   "name": "python",
   "nbconvert_exporter": "python",
   "pygments_lexer": "ipython3",
   "version": "3.7.0"
  }
 },
 "nbformat": 4,
 "nbformat_minor": 2
}
