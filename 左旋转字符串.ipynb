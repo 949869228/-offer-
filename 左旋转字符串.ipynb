{
 "cells": [
  {
   "cell_type": "markdown",
   "metadata": {},
   "source": [
    "# 题目描述\n",
    "汇编语言中有一种移位指令叫做循环左移（ROL），现在有个简单的任务，就是用字符串模拟这个指令的运算结果。对于一个给定的字符序列S，请你把其循环左移K位后的序列输出。例如，字符序列S=”abcXYZdef”,要求输出循环左移3位后的结果，即“XYZdefabc”。是不是很简单？OK，搞定它！"
   ]
  },
  {
   "cell_type": "markdown",
   "metadata": {},
   "source": [
    "# 太简单，直接使用字符串剪切\n",
    "\n",
    "- 运行时间：23ms\n",
    "\n",
    "- 占用内存：5864k\n",
    "\n",
    "唯一需要注意的就是边界条件：\n",
    "\n",
    "- 字符串为空\n",
    "- K超过字符串长度了"
   ]
  },
  {
   "cell_type": "code",
   "execution_count": 1,
   "metadata": {
    "collapsed": true
   },
   "outputs": [],
   "source": [
    "# -*- coding:utf-8 -*-\n",
    "class Solution:\n",
    "    def LeftRotateString(self, s, n):\n",
    "        # write code here\n",
    "        if s == \"\":\n",
    "            return \"\"\n",
    "        length = len(s)\n",
    "        n = n % length\n",
    "        return s[n:] + s[:n]"
   ]
  },
  {
   "cell_type": "code",
   "execution_count": 2,
   "metadata": {
    "collapsed": true
   },
   "outputs": [],
   "source": [
    "##### 大神代码\n",
    "# -*- coding:utf-8 -*-\n",
    "class Solution:\n",
    " \n",
    "    def reverse(self, s):\n",
    "        if not s:\n",
    "            return \"\"\n",
    " \n",
    "        length = len(s)\n",
    "        if length <= 0:\n",
    "            return \"\"\n",
    " \n",
    "        s = list(s)\n",
    "        #print s\n",
    "        start = 0\n",
    "        end = length - 1\n",
    "        while start < end:\n",
    "            s[start], s[end] = s[end], s[start]\n",
    "            start += 1\n",
    "            end -= 1\n",
    "        #print 'after', s\n",
    "        return ''.join(s)\n",
    "     \n",
    " \n",
    "    def LeftRotateString(self, s, n):\n",
    "        # write code here\n",
    "        if not s:\n",
    "            return \"\"\n",
    "        length = len(s)\n",
    "        if length <= 0:\n",
    "            return \"\"\n",
    "        if n > length:\n",
    "            n = n % length\n",
    " \n",
    "        s = self.reverse(s)\n",
    " \n",
    "        first = \"\"\n",
    "        second = \"\"\n",
    "        for i in range(length - n):\n",
    "            first += s[i]\n",
    "        first = self.reverse(first)\n",
    "        for i in range(length - n, length, 1):\n",
    "            second += s[i]\n",
    "        second = self.reverse(second)\n",
    "        return first + second"
   ]
  },
  {
   "cell_type": "code",
   "execution_count": null,
   "metadata": {
    "collapsed": true
   },
   "outputs": [],
   "source": []
  }
 ],
 "metadata": {
  "kernelspec": {
   "display_name": "Python 3",
   "language": "python",
   "name": "python3"
  },
  "language_info": {
   "codemirror_mode": {
    "name": "ipython",
    "version": 3
   },
   "file_extension": ".py",
   "mimetype": "text/x-python",
   "name": "python",
   "nbconvert_exporter": "python",
   "pygments_lexer": "ipython3",
   "version": "3.6.0"
  }
 },
 "nbformat": 4,
 "nbformat_minor": 2
}
