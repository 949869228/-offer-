{
 "cells": [
  {
   "cell_type": "markdown",
   "metadata": {},
   "source": [
    "输入一个整数数组，实现一个函数来调整该数组中数字的顺序，使得所有的奇数位于数组的前半部分，所有的偶数位于数组的后半部分，并保证奇数和奇数，偶数和偶数之间的相对位置不变。"
   ]
  },
  {
   "cell_type": "markdown",
   "metadata": {},
   "source": [
    "# 思路一：挨个判断\n"
   ]
  },
  {
   "cell_type": "code",
   "execution_count": 2,
   "metadata": {},
   "outputs": [
    {
     "data": {
      "text/plain": [
       "'\\n运行时间：24ms\\n\\n占用内存：5728k\\n'"
      ]
     },
     "execution_count": 2,
     "metadata": {},
     "output_type": "execute_result"
    }
   ],
   "source": [
    "# -*- coding:utf-8 -*-\n",
    "class Solution:\n",
    "    \n",
    "    def reOrderArray(self, array):\n",
    "        # write code here\n",
    "        ji=[]\n",
    "        ou=[]\n",
    "        for i in array:\n",
    "            if i%2==0:\n",
    "                ou.append(i)\n",
    "            else:\n",
    "                ji.append(i)\n",
    "        ji.extend(ou)\n",
    "        return ji\n",
    "\"\"\"\n",
    "运行时间：24ms\n",
    "\n",
    "占用内存：5728k\n",
    "\"\"\""
   ]
  },
  {
   "cell_type": "markdown",
   "metadata": {},
   "source": [
    "/**\n",
    " * 1.要想保证原有次序，则只能顺次移动或相邻交换。\n",
    " * 2.i从左向右遍历，找到第一个偶数。\n",
    " * 3.j从i+1开始向后找，直到找到第一个奇数。\n",
    " * 4.将[i,...,j-1]的元素整体后移一位，最后将找到的奇数放入i位置，然后i++。\n",
    " * 5.終止條件：j向後遍歷查找失敗。\n",
    " */"
   ]
  },
  {
   "cell_type": "code",
   "execution_count": 3,
   "metadata": {},
   "outputs": [],
   "source": [
    "# -*- coding:utf-8 -*-\n",
    "# -*- coding:utf-8 -*-\n",
    "class Solution:\n",
    "    def reOrderArray(self, array):\n",
    "        # write code here\n",
    "        count = 0\n",
    "        for i in range(0,len(array)):\n",
    "            for j in range(len(array)-1,i,-1):\n",
    "                if array[j-1]%2 ==0 and array[j]%2==1:\n",
    "                    temp = array[j-1]\n",
    "                    array[j-1] = array[j]\n",
    "                    array[j] = temp\n",
    "        return array\n"
   ]
  },
  {
   "cell_type": "code",
   "execution_count": null,
   "metadata": {},
   "outputs": [],
   "source": []
  }
 ],
 "metadata": {
  "kernelspec": {
   "display_name": "Python 3",
   "language": "python",
   "name": "python3"
  },
  "language_info": {
   "codemirror_mode": {
    "name": "ipython",
    "version": 3
   },
   "file_extension": ".py",
   "mimetype": "text/x-python",
   "name": "python",
   "nbconvert_exporter": "python",
   "pygments_lexer": "ipython3",
   "version": "3.7.0"
  }
 },
 "nbformat": 4,
 "nbformat_minor": 2
}
