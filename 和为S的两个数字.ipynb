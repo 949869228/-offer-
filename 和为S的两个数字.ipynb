{
 "cells": [
  {
   "cell_type": "markdown",
   "metadata": {},
   "source": [
    "# 题目描述\n",
    "输入一个递增排序的数组和一个数字S，在数组中查找两个数，使得他们的和正好是S，如果有多对数字的和等于S，输出两个数的乘积最小的。\n",
    "# 输出描述:\n",
    "> 对应每个测试案例，输出两个数，小的先输出。"
   ]
  },
  {
   "cell_type": "code",
   "execution_count": null,
   "metadata": {
    "collapsed": true
   },
   "outputs": [],
   "source": []
  },
  {
   "cell_type": "markdown",
   "metadata": {},
   "source": [
    "# 双指针法\n",
    "- 运行时间：22ms\n",
    "\n",
    "- 占用内存：5732k\n",
    "数列满足递增，设两个头尾两个指针i和j，\n",
    " 1. 若ai + aj == sum，就是答案（相差越远乘积越小）\n",
    " 2. 若ai + aj > sum，aj肯定不是答案之一（前面已得出 i 前面的数已是不可能），j -= 1\n",
    " 3. 若ai + aj < sum，ai肯定不是答案之一（前面已得出 j 后面的数已是不可能），i +=1\n",
    "\n",
    "\n",
    "      时间复杂度  O(n)\n",
    "\n",
    "其实主要思想是两个数的乘积要最小，那么这个时候我们就需要知道，当一个有序的序列，两个数相隔越远，最后得到的数最小。所以我们设定两个指针，分别从序列的两头出发。\n",
    "\n"
   ]
  },
  {
   "cell_type": "code",
   "execution_count": 1,
   "metadata": {
    "collapsed": true
   },
   "outputs": [],
   "source": [
    "# -*- coding:utf-8 -*-\n",
    "class Solution:\n",
    "    def FindNumbersWithSum(self, array, tsum):\n",
    "        # write code here\n",
    "        if not isinstance(array, list) or array == []:\n",
    "            return []\n",
    "        small = 0\n",
    "        big = len(array) - 1\n",
    "        curr =array[small] + array[big]\n",
    "        if curr == tsum:\n",
    "            return [array[small], array[big]]\n",
    "        while curr != tsum and small != big:\n",
    "            if curr > tsum:\n",
    "                big -= 1 \n",
    "                curr =array[small] + array[big]\n",
    "            else:\n",
    "                small += 1\n",
    "                curr =array[small] + array[big]\n",
    "        if small == big:\n",
    "            return []\n",
    "        else:\n",
    "            return [array[small], array[big]]\n"
   ]
  },
  {
   "cell_type": "code",
   "execution_count": 2,
   "metadata": {
    "collapsed": true
   },
   "outputs": [],
   "source": [
    "#####大神代码\n",
    "# -*- coding:utf-8 -*-\n",
    "class Solution:\n",
    "    def FindNumbersWithSum(self, array, tsum):\n",
    "        # write code here\n",
    "        ls = []\n",
    "        if not isinstance(array, list):\n",
    "            return ls\n",
    "        for i, v in enumerate(array):\n",
    "            for v1 in array[i:]:\n",
    "                if (v + v1) == tsum:\n",
    "                    ls.append([v, v1])\n",
    "        if ls:\n",
    "            return ls[0]\n",
    "        else:\n",
    "            return ls"
   ]
  },
  {
   "cell_type": "code",
   "execution_count": null,
   "metadata": {
    "collapsed": true
   },
   "outputs": [],
   "source": []
  }
 ],
 "metadata": {
  "kernelspec": {
   "display_name": "Python 3",
   "language": "python",
   "name": "python3"
  },
  "language_info": {
   "codemirror_mode": {
    "name": "ipython",
    "version": 3
   },
   "file_extension": ".py",
   "mimetype": "text/x-python",
   "name": "python",
   "nbconvert_exporter": "python",
   "pygments_lexer": "ipython3",
   "version": "3.6.0"
  }
 },
 "nbformat": 4,
 "nbformat_minor": 2
}
