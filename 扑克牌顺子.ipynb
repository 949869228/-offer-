{
 "cells": [
  {
   "cell_type": "markdown",
   "metadata": {},
   "source": [
    "# 题目描述\n",
    "LL今天心情特别好,因为他去买了一副扑克牌,发现里面居然有2个大王,2个小王(一副牌原本是54张^_^)...他随机从中抽出了5张牌,想测测自己的手气,看看能不能抽到顺子,如果抽到的话,他决定去买体育彩票,嘿嘿！！“红心A,黑桃3,小王,大王,方片5”,“Oh My God!”不是顺子.....LL不高兴了,他想了想,决定大\\小 王可以看成任何数字,并且A看作1,J为11,Q为12,K为13。上面的5张牌就可以变成“1,2,3,4,5”(大小王分别看作2和4),“So Lucky!”。LL决定去买体育彩票啦。 现在,要求你使用这幅牌模拟上面的过程,然后告诉我们LL的运气如何， 如果牌能组成顺子就输出true，否则就输出false。为了方便起见,你可以认为大小王是0。"
   ]
  },
  {
   "cell_type": "markdown",
   "metadata": {},
   "source": [
    "# 列举所有的情况\n",
    "\n",
    "- 运行时间：24ms\n",
    "\n",
    "- 占用内存：5624k\n",
    "\n",
    "1. 大小王的数量是关键\n",
    "2. 首先排除重复元素存在的情况\n",
    "3. 然后分情况讨论即可"
   ]
  },
  {
   "cell_type": "code",
   "execution_count": 1,
   "metadata": {
    "collapsed": true
   },
   "outputs": [],
   "source": [
    "# -*- coding:utf-8 -*-\n",
    "class Solution:\n",
    "    def IsContinuous(self, numbers):\n",
    "        # write code here\n",
    "        if numbers == []:\n",
    "            return False\n",
    "        n = numbers.count(0) #统计大小王的数量\n",
    "        # 首先排除非0重复元素存在的情况\n",
    "        while 0 in numbers :\n",
    "            numbers.remove(0)\n",
    "        #排除重复元素存在的可能性\n",
    "        for i in numbers:\n",
    "            if numbers.count(i) != 1:\n",
    "                return False\n",
    "        if n == 4:\n",
    "            return True\n",
    "        else:\n",
    "            max_numbers = max(numbers)\n",
    "            min_numbers = min(numbers)\n",
    "            if max_numbers - min_numbers < 5:\n",
    "                return True\n",
    "            else:\n",
    "                return False\n",
    "\n"
   ]
  },
  {
   "cell_type": "code",
   "execution_count": null,
   "metadata": {
    "collapsed": true
   },
   "outputs": [],
   "source": []
  }
 ],
 "metadata": {
  "kernelspec": {
   "display_name": "Python 3",
   "language": "python",
   "name": "python3"
  },
  "language_info": {
   "codemirror_mode": {
    "name": "ipython",
    "version": 3
   },
   "file_extension": ".py",
   "mimetype": "text/x-python",
   "name": "python",
   "nbconvert_exporter": "python",
   "pygments_lexer": "ipython3",
   "version": "3.6.0"
  }
 },
 "nbformat": 4,
 "nbformat_minor": 2
}
