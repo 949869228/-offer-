{
 "cells": [
  {
   "cell_type": "markdown",
   "metadata": {},
   "source": [
    "# 题目描述\n",
    "小明很喜欢数学,有一天他在做数学作业时,要求计算出9~16的和,他马上就写出了正确答案是100。但是他并不满足于此,他在想究竟有多少种连续的正数序列的和为100(至少包括两个数)。没多久,他就得到另一组连续正数和为100的序列:18,19,20,21,22。现在把问题交给你,你能不能也很快的找出所有和为S的连续正数序列? Good Luck!\n",
    "# 输出描述:\n",
    "输出所有和为S的连续正数序列。序列内按照从小至大的顺序，序列间按照开始数字从小到大的顺序"
   ]
  },
  {
   "cell_type": "code",
   "execution_count": null,
   "metadata": {
    "collapsed": true
   },
   "outputs": [],
   "source": []
  },
  {
   "cell_type": "code",
   "execution_count": null,
   "metadata": {
    "collapsed": true
   },
   "outputs": [],
   "source": []
  },
  {
   "cell_type": "code",
   "execution_count": null,
   "metadata": {
    "collapsed": true
   },
   "outputs": [],
   "source": []
  },
  {
   "cell_type": "markdown",
   "metadata": {},
   "source": [
    "# 双指针解法\n",
    "- 运行时间：26ms\n",
    "\n",
    "- 占用内存：6096k\n",
    "\n",
    "使用两个指针small和big根据条件随和移动：\n",
    "\n",
    "以求和为9来示例，我们先把small初始化为1，big初始化为2，此时介于samll与big之间的序列是{1,2}，序列和为3，小于9，因此我们下一步要让序列包含更多的数字。\n",
    "\n",
    "我们吧big+1=3，此时序列为{1,2,3}，和为6，仍然小于9.我们接下来增加big=4.由于序列和10大于9，我们要删去序列中的一些数字，于是我们增加small变成2.此时得到的序列{2,3,4}，序列和正好是9.我们找到了第一个和为9的序列，把它打印出来。\n",
    "\n",
    "接下来我们再增加biig，重复前面的过程。\n",
    "    \n"
   ]
  },
  {
   "cell_type": "code",
   "execution_count": 1,
   "metadata": {
    "collapsed": true
   },
   "outputs": [],
   "source": [
    "# -*- coding:utf-8 -*-\n",
    "class Solution:\n",
    "    def FindContinuousSequence(self, tsum):\n",
    "        # write code here\n",
    "        length = (tsum + 1) /2\n",
    "        small = 1\n",
    "        big = 2\n",
    "        curr = small + big\n",
    "        res=[]\n",
    "        while small < length:\n",
    "            if curr == tsum:\n",
    "                res.append(range(small, big + 1))\n",
    "            while curr > tsum and small < length:\n",
    "                curr -= small\n",
    "                small += 1\n",
    "                if curr == tsum:\n",
    "                    res.append(range(small, big + 1))\n",
    "            big += 1\n",
    "            curr += big\n",
    "        return res"
   ]
  },
  {
   "cell_type": "markdown",
   "metadata": {},
   "source": [
    "# 数学解法\n",
    "\n",
    "解题思路\n",
    "- S除奇数时，如果余数为0时，存在这样的序列；\n",
    "- S除偶数时，如果余数为偶数的一半，则存在这样的序列；\n",
    "- 需要确保序列的最左端（最小数）值大于0.\n",
    "\n",
    "铺开来说：\n",
    "\n",
    "1. 由于我们要找的是和为S的连续正数序列，因此这个序列是个公差为1的等差数列，而这个序列的中间值代表了平均值的大小。假设序列长度为n，那么这个序列的中间值可以通过（S/n）得到，知道序列的中间值和长度，也就不难求出这段序列了。 \n",
    "2. 满足条件的n分两种情况： \n",
    "n为奇数时，序列中间的数正好是序列的平均值，所以条件为：(n & 1) == 1 && sum % n == 0； \n",
    "n为偶数时，序列中间两个数的平均值是序列的平均值，而这个平均值的小数部分为0.5，所以条件为：(sum % n) * 2 == n. \n",
    "3. 由题可知n >= 2，那么n的最大值是多少呢？我们完全可以将n从2到S全部遍历一次，但是大部分遍历是不必要的。为了让n尽可能大，我们让序列从1开始， \n",
    "根据等差数列的求和公式：S = (1 + n) * n / 2，知n < sqrt(2S).\n"
   ]
  },
  {
   "cell_type": "code",
   "execution_count": 3,
   "metadata": {
    "collapsed": false
   },
   "outputs": [],
   "source": [
    "def FindContinuousSequence(self, tsum):\n",
    "    div = 2\n",
    "    res, soleArray = [],[]\n",
    "    while tsum//div >= div//2:\n",
    "        if (div%2)==0 and (tsum%div)==(div//2):\n",
    "            start = tsum//div - div//2 + 1\n",
    "            while start <= tsum//div + div//2:\n",
    "                soleArray.append(start)\n",
    "                start += 1\n",
    "            res.append(soleArray)\n",
    "        elif (div%2)==1 and tsum%div==0 and tsum//div > div//2:\n",
    "            start = tsum//div - div//2\n",
    "            while start <= tsum//div + div//2:\n",
    "                soleArray.append(start)\n",
    "                start += 1\n",
    "            res.append(soleArray)\n",
    "        div += 1\n",
    "        soleArray = []\n",
    "    return sorted(res)\n"
   ]
  },
  {
   "cell_type": "code",
   "execution_count": 4,
   "metadata": {
    "collapsed": true
   },
   "outputs": [],
   "source": [
    "def FindContinuousSequence(self, tsum):\n",
    "    div = 2\n",
    "    res = []\n",
    "    while div <= int(math.sqrt(tsum*2)):\n",
    "        soleArray = []\n",
    "        if (div%2==0 and tsum%div == div/2) or (div%2==1 and tsum%div == 0):\n",
    "            start = tsum//div - div//2 + 1 if div%2==0 else tsum//div - div//2\n",
    "            while start <= tsum//div + div//2:\n",
    "                soleArray.append(start)\n",
    "                start += 1\n",
    "            res.append(soleArray)\n",
    "        div += 1\n",
    "    return sorted(res)\n"
   ]
  },
  {
   "cell_type": "code",
   "execution_count": 5,
   "metadata": {
    "collapsed": true
   },
   "outputs": [],
   "source": [
    "def FindContinuousSequence(self, tsum):\n",
    "    res = []\n",
    "    for div in range(2,int(math.sqrt(tsum*2))+1):\n",
    "        if (div%2==0 and tsum%div == div/2) or (div%2==1 and tsum%div == 0):\n",
    "            start = tsum//div - div//2 + 1 if div%2==0 else tsum//div - div//2\n",
    "            res.append(list(range(start, tsum//div + div//2 + 1)))\n",
    "    return sorted(res)\n"
   ]
  }
 ],
 "metadata": {
  "kernelspec": {
   "display_name": "Python 3",
   "language": "python",
   "name": "python3"
  },
  "language_info": {
   "codemirror_mode": {
    "name": "ipython",
    "version": 3
   },
   "file_extension": ".py",
   "mimetype": "text/x-python",
   "name": "python",
   "nbconvert_exporter": "python",
   "pygments_lexer": "ipython3",
   "version": "3.6.0"
  }
 },
 "nbformat": 4,
 "nbformat_minor": 2
}
